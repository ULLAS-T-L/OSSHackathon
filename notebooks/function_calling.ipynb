{
 "cells": [
  {
   "cell_type": "code",
   "execution_count": 14,
   "id": "95a6405b",
   "metadata": {},
   "outputs": [],
   "source": [
    "# fireworks_api_key = \"\""
   ]
  },
  {
   "cell_type": "code",
   "execution_count": 15,
   "id": "ba2f06c7",
   "metadata": {},
   "outputs": [
    {
     "name": "stdout",
     "output_type": "stream",
     "text": [
      "resources/Anthropic-3bfd8fb0-7841-498e-9672-40a22b2131a9.html\n"
     ]
    }
   ],
   "source": [
    "import glob\n",
    "for filename in glob.glob(\"resources/*.html\"):\n",
    "    print(filename)\n",
    "    break\n",
    "    \n",
    "with open(filename) as f:\n",
    "    srr = f.read()"
   ]
  },
  {
   "cell_type": "code",
   "execution_count": 16,
   "id": "d9fbac85",
   "metadata": {},
   "outputs": [],
   "source": [
    "from bs4 import BeautifulSoup"
   ]
  },
  {
   "cell_type": "code",
   "execution_count": 17,
   "id": "79a52ccf",
   "metadata": {},
   "outputs": [],
   "source": [
    "text = BeautifulSoup(srr).get_text()"
   ]
  },
  {
   "cell_type": "code",
   "execution_count": 18,
   "id": "8073819d",
   "metadata": {},
   "outputs": [
    {
     "name": "stdout",
     "output_type": "stream",
     "text": [
      "{\n",
      "    \"content\": null,\n",
      "    \"role\": \"assistant\",\n",
      "    \"function_call\": null,\n",
      "    \"tool_calls\": [\n",
      "        {\n",
      "            \"id\": \"call_NXdkD5HYYHuVPWd7enXBuUFx\",\n",
      "            \"function\": {\n",
      "                \"arguments\": \"{\\\"company\\\": \\\"Anthropic\\\", \\\"job_title\\\": \\\"Research Engineer, Product\\\", \\\"years_of_experience_required\\\": 5, \\\"technical_skills_required\\\": [\\\"Python\\\", \\\"C++\\\", \\\"Pytorch\\\"], \\\"is_remote\\\": \\\"Hybrid\\\", \\\"is_intern\\\": \\\"No\\\", \\\"is_new_grad\\\": \\\"No\\\", \\\"is_manager\\\": \\\"Yes\\\"}\",\n",
      "                \"name\": \"index_job_opening\"\n",
      "            },\n",
      "            \"type\": \"function\",\n",
      "            \"index\": 0\n",
      "        }\n",
      "    ]\n",
      "}\n"
     ]
    }
   ],
   "source": [
    "import openai\n",
    "import json\n",
    "import textwrap\n",
    "\n",
    "client = openai.OpenAI(\n",
    "    base_url = \"https://api.fireworks.ai/inference/v1\",\n",
    "    api_key = fireworks_api_key\n",
    ")\n",
    "\n",
    "# Not recommended to change the system prompt, \n",
    "messages = [\n",
    "    {\"role\": \"system\", \"content\": \"You are a helpful assistant with access to functions.\"},\n",
    "    {\"role\": \"user\", \"content\": \"Please index the following job opening:\\n\\n\" + text},\n",
    "]\n",
    "\n",
    "tools = [\n",
    "    {\n",
    "        \"type\": \"function\",\n",
    "        \"function\": {\n",
    "            # name of the function \n",
    "            \"name\": \"index_job_opening\",\n",
    "            # a good, detailed description for what the function is supposed to do\n",
    "            \"description\": \"Index the job opening.\",\n",
    "            # a well defined json schema: https://json-schema.org/learn/getting-started-step-by-step#define\n",
    "            \"parameters\": {\n",
    "                # for OpenAI compatibility, we always declare a top level object for the parameters of the function\n",
    "                \"type\": \"object\",\n",
    "                # the properties for the object would be any arguments you want to provide to the function\n",
    "                \"properties\": {\n",
    "                    \"company\": {\n",
    "                        \"type\": \"string\",\n",
    "                        \"description\": \"The company with the job opening.\"\n",
    "                    },\n",
    "                    \"job_title\": {\n",
    "                        \"type\": \"string\",\n",
    "                        \"description\": \"The title of the job.\",\n",
    "                    },\n",
    "                    \"years_of_experience_required\": {\n",
    "                        \"type\": \"integer\", \n",
    "                        # If the model does not understand how it is supposed to fill the field, a good description goes a long way \n",
    "                        \"description\": \"The minimum number of years of experience required for the role.\",\n",
    "                    },\n",
    "                    \"technical_skills_required\": {\n",
    "                        \"type\": \"array\",\n",
    "                        \"description\": textwrap.dedent(\"\"\"\n",
    "                            The technical skills required (such as Python, C++).\n",
    "                            NEVER include tools (Microsoft Word, VSCode).\n",
    "                            NEVER include soft skills (communication, presentation).\n",
    "                            This field could be empty if the position is not a technical position.\n",
    "                        \"\"\".strip()),\n",
    "                        \"items\": {\n",
    "                            \"type\": \"string\"\n",
    "                        },\n",
    "                    },\n",
    "                    \"is_remote\": {\n",
    "                        \"type\": \"string\",\n",
    "                        \"description\": \"Whether the job can be done completely remotely.\",\n",
    "                    },\n",
    "                    \"is_intern\": {\n",
    "                        \"type\": \"string\",\n",
    "                        \"description\": \"Whether the job opening is an intern position.\",\n",
    "                    },\n",
    "                    \"is_new_grad\": {\n",
    "                        \"type\": \"string\",\n",
    "                        \"description\": \"Whether the job is specified to be open to a graduate fresh out of college.\",\n",
    "                    },\n",
    "                    \"is_manager\": {\n",
    "                        \"type\": \"string\",\n",
    "                        \"description\": \"Whether the job requires managing reports.\",\n",
    "                    },\n",
    "                },\n",
    "                # You can specify which of the properties from above are required\n",
    "                # for more info on `required` field, please check https://json-schema.org/understanding-json-schema/reference/object#required\n",
    "                \"required\": [\"is_remote\", \"years_of_experience_required\", \"company\"],\n",
    "            },\n",
    "        },\n",
    "    }\n",
    "]\n",
    "\n",
    "chat_completion = client.chat.completions.create(\n",
    "    model=\"accounts/fireworks/models/firefunction-v1\",\n",
    "    messages=messages,\n",
    "    tools=tools,\n",
    "    temperature=0.1\n",
    ")\n",
    "print(chat_completion.choices[0].message.model_dump_json(indent=4))"
   ]
  },
  {
   "cell_type": "code",
   "execution_count": 19,
   "id": "cef6d5d6",
   "metadata": {},
   "outputs": [
    {
     "data": {
      "text/plain": [
       "'{\"company\": \"Anthropic\", \"job_title\": \"Research Engineer, Product\", \"years_of_experience_required\": 5, \"technical_skills_required\": [\"Python\", \"C++\", \"Pytorch\"], \"is_remote\": \"Hybrid\", \"is_intern\": \"No\", \"is_new_grad\": \"No\", \"is_manager\": \"Yes\"}'"
      ]
     },
     "execution_count": 19,
     "metadata": {},
     "output_type": "execute_result"
    }
   ],
   "source": [
    "chat_completion.choices[0].message.tool_calls[0].function.arguments"
   ]
  },
  {
   "cell_type": "code",
   "execution_count": null,
   "id": "05d1731c",
   "metadata": {},
   "outputs": [],
   "source": []
  }
 ],
 "metadata": {
  "kernelspec": {
   "display_name": "Python 3 (ipykernel)",
   "language": "python",
   "name": "python3"
  },
  "language_info": {
   "codemirror_mode": {
    "name": "ipython",
    "version": 3
   },
   "file_extension": ".py",
   "mimetype": "text/x-python",
   "name": "python",
   "nbconvert_exporter": "python",
   "pygments_lexer": "ipython3",
   "version": "3.9.7"
  }
 },
 "nbformat": 4,
 "nbformat_minor": 5
}
